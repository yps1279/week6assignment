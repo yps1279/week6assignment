{
 "cells": [
  {
   "attachments": {},
   "cell_type": "markdown",
   "id": "bed645b5",
   "metadata": {},
   "source": [
    "# Data Science Tools and Ecosystem\n"
   ]
  },
  {
   "cell_type": "markdown",
   "id": "e139e04a",
   "metadata": {},
   "source": [
    "In this notebook, Data Science Tools and Ecosystem are summarized."
   ]
  },
  {
   "cell_type": "markdown",
   "id": "ef0ca62c",
   "metadata": {},
   "source": [
    "**Objectives:**\n",
    "\n",
    "- List of Popular Languages in Data Science\n",
    "- List of Commonly used Librarues in Data Science\n",
    "- List of Common Data Science Tools\n",
    "- Basic Arithmetric Operations in Jupyter Notebbok\n",
    "- Application Program Interface (API)"
   ]
  },
  {
   "cell_type": "markdown",
   "id": "78d59d9c",
   "metadata": {},
   "source": [
    "Some of the popular languages that Data Scientists use are:\n",
    "\n",
    "    1. Python\n",
    "    2. R\n",
    "    3. C++"
   ]
  },
  {
   "cell_type": "markdown",
   "id": "ae7a810d",
   "metadata": {},
   "source": [
    "Some of the commonly used libraries used by Data Scientists include:\n",
    "    \n",
    "    1. Panda\n",
    "    2. NumPy\n",
    "    3. SciKit"
   ]
  },
  {
   "cell_type": "markdown",
   "id": "a67c4460",
   "metadata": {},
   "source": [
    "| Data Science Tools |\n",
    "| ------------------ |\n",
    "|    MySQL           |\n",
    "|   PostgreSQL       |\n",
    "| Apache CouchDB     |"
   ]
  },
  {
   "cell_type": "markdown",
   "id": "e43cf059",
   "metadata": {},
   "source": [
    "### Below are a few examples of evaluating arithmetic expressions in Python"
   ]
  },
  {
   "cell_type": "code",
   "execution_count": 1,
   "id": "f93665f2",
   "metadata": {},
   "outputs": [
    {
     "data": {
      "text/plain": [
       "17"
      ]
     },
     "execution_count": 1,
     "metadata": {},
     "output_type": "execute_result"
    }
   ],
   "source": [
    "#This a simple arithmetic expression to mutiply then add integers\n",
    "(3*4)+5\n"
   ]
  },
  {
   "cell_type": "code",
   "execution_count": 2,
   "id": "6d952968",
   "metadata": {},
   "outputs": [
    {
     "data": {
      "text/plain": [
       "3.3333333333333335"
      ]
     },
     "execution_count": 2,
     "metadata": {},
     "output_type": "execute_result"
    }
   ],
   "source": [
    "# This will convert 200 minutes to hours by diving by 60\n",
    "200/60\n"
   ]
  },
  {
   "cell_type": "markdown",
   "id": "a2b4d262",
   "metadata": {},
   "source": [
    "## Author\n",
    "Yogesh Singh"
   ]
  }
 ],
 "metadata": {
  "kernelspec": {
   "display_name": "Python 3 (ipykernel)",
   "language": "python",
   "name": "python3"
  },
  "language_info": {
   "codemirror_mode": {
    "name": "ipython",
    "version": 3
   },
   "file_extension": ".py",
   "mimetype": "text/x-python",
   "name": "python",
   "nbconvert_exporter": "python",
   "pygments_lexer": "ipython3",
   "version": "3.11.5"
  }
 },
 "nbformat": 4,
 "nbformat_minor": 5
}
